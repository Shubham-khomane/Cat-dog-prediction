{
 "cells": [
  {
   "cell_type": "code",
   "execution_count": 1,
   "id": "2b56a9b0",
   "metadata": {},
   "outputs": [],
   "source": [
    "import cv2\n",
    "from tensorflow.keras.models import load_model"
   ]
  },
  {
   "cell_type": "code",
   "execution_count": 2,
   "id": "e6d48f08",
   "metadata": {},
   "outputs": [],
   "source": [
    "import tensorflow as tf"
   ]
  },
  {
   "cell_type": "code",
   "execution_count": 3,
   "id": "f3f3dc81",
   "metadata": {},
   "outputs": [
    {
     "data": {
      "text/plain": [
       "'2.11.0'"
      ]
     },
     "execution_count": 3,
     "metadata": {},
     "output_type": "execute_result"
    }
   ],
   "source": [
    "tf.__version__"
   ]
  },
  {
   "cell_type": "code",
   "execution_count": 4,
   "id": "3fca2acb",
   "metadata": {},
   "outputs": [],
   "source": [
    "model = load_model('cnn_own_vgg16.h5')"
   ]
  },
  {
   "cell_type": "code",
   "execution_count": 31,
   "id": "6a8e1a66",
   "metadata": {},
   "outputs": [],
   "source": [
    "def predict_cat_or_dog(filepath):\n",
    "    img = cv2.imread(filepath)\n",
    "    img = cv2.resize(img,(224,224))/255\n",
    "    yp = model.predict_on_batch(img.reshape(-1,224,224,3)).argmax()\n",
    "    return 'CAT' if yp==0 else 'DOG'"
   ]
  },
  {
   "cell_type": "code",
   "execution_count": 32,
   "id": "51c38277",
   "metadata": {},
   "outputs": [],
   "source": [
    "import os"
   ]
  },
  {
   "cell_type": "code",
   "execution_count": 34,
   "id": "5210d6bc",
   "metadata": {},
   "outputs": [
    {
     "name": "stdout",
     "output_type": "stream",
     "text": [
      "Actual Image of a Cat, Predicted as = \t\t CAT\n",
      "Actual Image of a Cat, Predicted as = \t\t CAT\n",
      "Actual Image of a Cat, Predicted as = \t\t CAT\n",
      "Actual Image of a Cat, Predicted as = \t\t CAT\n",
      "Actual Image of a Cat, Predicted as = \t\t CAT\n",
      "Actual Image of a Cat, Predicted as = \t\t CAT\n",
      "Actual Image of a Cat, Predicted as = \t\t CAT\n",
      "Actual Image of a Cat, Predicted as = \t\t CAT\n",
      "Actual Image of a Cat, Predicted as = \t\t CAT\n",
      "Actual Image of a Cat, Predicted as = \t\t CAT\n",
      "Actual Image of a Cat, Predicted as = \t\t CAT\n",
      "Actual Image of a Cat, Predicted as = \t\t CAT\n",
      "Actual Image of a Cat, Predicted as = \t\t CAT\n",
      "Actual Image of a Cat, Predicted as = \t\t CAT\n",
      "Actual Image of a Cat, Predicted as = \t\t CAT\n",
      "Actual Image of a Cat, Predicted as = \t\t CAT\n",
      "Actual Image of a Dog, Predicted as  = \t\t DOG\n",
      "Actual Image of a Dog, Predicted as  = \t\t DOG\n",
      "Actual Image of a Dog, Predicted as  = \t\t DOG\n",
      "Actual Image of a Dog, Predicted as  = \t\t DOG\n",
      "Actual Image of a Dog, Predicted as  = \t\t DOG\n",
      "Actual Image of a Dog, Predicted as  = \t\t DOG\n",
      "Actual Image of a Dog, Predicted as  = \t\t DOG\n",
      "Actual Image of a Dog, Predicted as  = \t\t DOG\n",
      "Actual Image of a Dog, Predicted as  = \t\t DOG\n",
      "Actual Image of a Dog, Predicted as  = \t\t CAT\n",
      "Actual Image of a Dog, Predicted as  = \t\t DOG\n"
     ]
    }
   ],
   "source": [
    "filenames = os.listdir('../Original Data/Cat and Dogs/')\n",
    "for filename in filenames:\n",
    "    print('Actual Image of a Cat, Predicted as =' if (filename.split('.')[0])[0]=='C' \n",
    "          else 'Actual Image of a Dog, Predicted as  =',\n",
    "          '\\t\\t', predict_cat_or_dog('../Original Data/Cat and Dogs/'+filename))"
   ]
  },
  {
   "cell_type": "code",
   "execution_count": null,
   "id": "35394ae2",
   "metadata": {},
   "outputs": [],
   "source": []
  }
 ],
 "metadata": {
  "kernelspec": {
   "display_name": "Python [conda env:dsml_19]",
   "language": "python",
   "name": "conda-env-dsml_19-py"
  },
  "language_info": {
   "codemirror_mode": {
    "name": "ipython",
    "version": 3
   },
   "file_extension": ".py",
   "mimetype": "text/x-python",
   "name": "python",
   "nbconvert_exporter": "python",
   "pygments_lexer": "ipython3",
   "version": "3.10.8"
  }
 },
 "nbformat": 4,
 "nbformat_minor": 5
}
